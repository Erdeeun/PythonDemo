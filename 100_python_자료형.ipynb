{
  "nbformat": 4,
  "nbformat_minor": 0,
  "metadata": {
    "colab": {
      "provenance": [],
      "authorship_tag": "ABX9TyOdeKrHuQLjLJINhZ4SuKWk",
      "include_colab_link": true
    },
    "kernelspec": {
      "name": "python3",
      "display_name": "Python 3"
    },
    "language_info": {
      "name": "python"
    }
  },
  "cells": [
    {
      "cell_type": "markdown",
      "metadata": {
        "id": "view-in-github",
        "colab_type": "text"
      },
      "source": [
        "<a href=\"https://colab.research.google.com/github/Erdeeun/PythonDemo/blob/master/100_python_%EC%9E%90%EB%A3%8C%ED%98%95.ipynb\" target=\"_parent\"><img src=\"https://colab.research.google.com/assets/colab-badge.svg\" alt=\"Open In Colab\"/></a>"
      ]
    },
    {
      "cell_type": "code",
      "execution_count": null,
      "metadata": {
        "colab": {
          "base_uri": "https://localhost:8080/"
        },
        "id": "BbBoSkHY0E9q",
        "outputId": "98322561-d7b9-449e-f7d9-4e946e86aa3d"
      },
      "outputs": [
        {
          "output_type": "stream",
          "name": "stdout",
          "text": [
            "Python 3.10.12\n"
          ]
        }
      ],
      "source": [
        "#버전확인\n",
        "!python --version"
      ]
    },
    {
      "cell_type": "code",
      "source": [
        "#https://www.python.org/\n",
        "#https://peps.python.org/pep-0008/\n",
        "#https://wikidocs.net/book/1\n",
        "#https://dojang.io/course/view.php?id=7\n"
      ],
      "metadata": {
        "id": "OjRInjqL0ZkF"
      },
      "execution_count": null,
      "outputs": []
    },
    {
      "cell_type": "code",
      "source": [
        "#파이썬에서 추구하는 철학\n",
        "import this"
      ],
      "metadata": {
        "colab": {
          "base_uri": "https://localhost:8080/"
        },
        "id": "dJVGLkiy2Idy",
        "outputId": "eb426570-c2dc-4d8b-f988-b51d81386e8e"
      },
      "execution_count": null,
      "outputs": [
        {
          "output_type": "stream",
          "name": "stdout",
          "text": [
            "The Zen of Python, by Tim Peters\n",
            "\n",
            "Beautiful is better than ugly.\n",
            "Explicit is better than implicit.\n",
            "Simple is better than complex.\n",
            "Complex is better than complicated.\n",
            "Flat is better than nested.\n",
            "Sparse is better than dense.\n",
            "Readability counts.\n",
            "Special cases aren't special enough to break the rules.\n",
            "Although practicality beats purity.\n",
            "Errors should never pass silently.\n",
            "Unless explicitly silenced.\n",
            "In the face of ambiguity, refuse the temptation to guess.\n",
            "There should be one-- and preferably only one --obvious way to do it.\n",
            "Although that way may not be obvious at first unless you're Dutch.\n",
            "Now is better than never.\n",
            "Although never is often better than *right* now.\n",
            "If the implementation is hard to explain, it's a bad idea.\n",
            "If the implementation is easy to explain, it may be a good idea.\n",
            "Namespaces are one honking great idea -- let's do more of those!\n"
          ]
        }
      ]
    },
    {
      "cell_type": "code",
      "source": [
        "import keyword\n",
        "print(keyword.kwlist)\n",
        "print(len(keyword.kwlist))\n",
        "\n",
        "#변수는 소괄호 안붙음/ 함수는 소괄호 붙음"
      ],
      "metadata": {
        "colab": {
          "base_uri": "https://localhost:8080/"
        },
        "id": "jCIBeMDE2Q40",
        "outputId": "6c7a0eab-2aa3-477e-ff64-76e51c687afa"
      },
      "execution_count": null,
      "outputs": [
        {
          "output_type": "stream",
          "name": "stdout",
          "text": [
            "['False', 'None', 'True', 'and', 'as', 'assert', 'async', 'await', 'break', 'class', 'continue', 'def', 'del', 'elif', 'else', 'except', 'finally', 'for', 'from', 'global', 'if', 'import', 'in', 'is', 'lambda', 'nonlocal', 'not', 'or', 'pass', 'raise', 'return', 'try', 'while', 'with', 'yield']\n",
            "35\n"
          ]
        }
      ]
    },
    {
      "cell_type": "code",
      "source": [
        "print('Hello World')\n",
        "print('Hello World')"
      ],
      "metadata": {
        "colab": {
          "base_uri": "https://localhost:8080/"
        },
        "id": "oU9E4SJp2q6h",
        "outputId": "3ef43f8d-f865-4922-a1a5-5610216b9af8"
      },
      "execution_count": null,
      "outputs": [
        {
          "output_type": "stream",
          "name": "stdout",
          "text": [
            "Hello World\n",
            "Hello World\n"
          ]
        }
      ]
    },
    {
      "cell_type": "code",
      "source": [
        "#세미콜론은 문장의 끝을 의미함\n",
        "#하나의 문장이 끝나면 문장의 끝에 세미콜론을 입력한다.\n",
        "#하지만 파이선에서는 줄바꿈해서 입력하면 세미콜론 생략이 가능하다.\n",
        "print('Hello World') ; print('Hello World')"
      ],
      "metadata": {
        "colab": {
          "base_uri": "https://localhost:8080/"
        },
        "id": "2BqLrMVH3K55",
        "outputId": "571a6522-e290-4b4b-81c1-b53a86d7509f"
      },
      "execution_count": null,
      "outputs": [
        {
          "output_type": "stream",
          "name": "stdout",
          "text": [
            "Hello World\n",
            "Hello World\n"
          ]
        }
      ]
    },
    {
      "cell_type": "code",
      "source": [
        "# 자바스크립트나 파이썬은 유연해서 앞에 데이터타입을 지정하지 않는다.\n",
        "#변수 : 값을 저장하기 위한 메모리 공간\n",
        "\n",
        "a = 10; b = 20;\n",
        "if(a == 10) and \\\n",
        " (b == 20) :\n",
        "  print('OK')\n",
        "else :\n",
        "  print('NO')\n",
        "\n",
        "#들여쓰기 주의! 들여쓰기에 따라서 위계가 달라짐 / 운영체제에 따라 tab key 다르게 쓰기 때문에 스페이스바 사용할 것"
      ],
      "metadata": {
        "colab": {
          "base_uri": "https://localhost:8080/"
        },
        "id": "5v8FKZtW40yp",
        "outputId": "cb74bafc-16c2-4267-a1fe-87b3beb42621"
      },
      "execution_count": null,
      "outputs": [
        {
          "output_type": "stream",
          "name": "stdout",
          "text": [
            "OK\n"
          ]
        }
      ]
    },
    {
      "cell_type": "code",
      "source": [
        "#프로그래밍에서는 결과가 등호 왼쪽에 있음\n",
        "start = end = 1\n",
        "print(start)\n",
        "print(end)"
      ],
      "metadata": {
        "colab": {
          "base_uri": "https://localhost:8080/"
        },
        "id": "cmSrPMff6QXo",
        "outputId": "47acc0f0-424a-4875-8eab-0c5ac48156a2"
      },
      "execution_count": null,
      "outputs": [
        {
          "output_type": "stream",
          "name": "stdout",
          "text": [
            "1\n",
            "1\n"
          ]
        }
      ]
    },
    {
      "cell_type": "code",
      "source": [
        "#원래 ' '+' '로 들어온 문자열은 나열이 되는데\n",
        "a = '3'+'4'\n",
        "print (a)\n"
      ],
      "metadata": {
        "colab": {
          "base_uri": "https://localhost:8080/"
        },
        "id": "XgjlMel2OGtj",
        "outputId": "1ad70ad2-3647-419a-caa8-a5d308bbff89"
      },
      "execution_count": null,
      "outputs": [
        {
          "output_type": "stream",
          "name": "stdout",
          "text": [
            "34\n"
          ]
        }
      ]
    },
    {
      "cell_type": "code",
      "source": [
        "# eval함수는 '  +  ' 안의 식이 계산됨\n",
        "a = 1\n",
        "a = eval('3+4')\n",
        "print(a)\n",
        "\n",
        "a = eval('a+3')\n",
        "print (a)\n",
        "\n",
        "a=eval ('3'+'4') ## 참조 형식\n",
        "print (a)"
      ],
      "metadata": {
        "colab": {
          "base_uri": "https://localhost:8080/"
        },
        "id": "0AboJ2f3NjQ7",
        "outputId": "3560e052-0bf4-4576-c46e-d83ea23daa7d"
      },
      "execution_count": null,
      "outputs": [
        {
          "output_type": "stream",
          "name": "stdout",
          "text": [
            "7\n",
            "10\n",
            "34\n"
          ]
        }
      ]
    },
    {
      "cell_type": "markdown",
      "source": [
        "## 자료형\n",
        "1. 데이터 저장방법에 따른 자료형의 분류  \n",
        "  직접(direct)형 : 직접 데이터를 표현하는 자료형 : int, float, complex      \n",
        "  시퀀스(sequence)형: 다른 데이터를 포함하는 자료형, 순서가 있는 집합 자료형 : list,str, tuple, bytes, bytearray,range    \n",
        "  매핑(Mapping)형 : 다른 데이터를 포함하는 자료형 : dict   (key와 value로 이루어짐)\n",
        "  집합(Set)형 : 순서가 없고, 중복된 값도 없다. : set, frozenset  \n",
        "\n",
        "2. **변경 가능성에 따른 자료형 분류**  \n",
        "  변경 가능형(Mutable) : 데이터의 값을 변경할 수 있다.  : list, dict, set  \n",
        "  변경 불가능형(Immutable) : 데이터의 값을 변경할 수 없다. : int, float, complex, str, tuple, frozenset\n",
        "\n",
        "3. 데이터 저장 개수에 따른 자료형의 분류   \n",
        "  리터널(Literal/Scalar)형 : 한 가지 객체만 저장한다. : int, bytes, str, float, complex  \n",
        "  컨테이널(Container)형 : 여러 가지 객체를 저장한다. : list, tuple, dict, set, fronzenset"
      ],
      "metadata": {
        "id": "zAo5FAz6PKC7"
      }
    },
    {
      "cell_type": "markdown",
      "source": [
        "type() : 데이터 자료형 확인   \n"
      ],
      "metadata": {
        "id": "LiOVu2JYQJys"
      }
    },
    {
      "cell_type": "code",
      "source": [
        "type(5)"
      ],
      "metadata": {
        "colab": {
          "base_uri": "https://localhost:8080/"
        },
        "id": "wdDPA4I5Ohfc",
        "outputId": "152479d2-bbf6-4e35-c4d3-87cabef71119"
      },
      "execution_count": null,
      "outputs": [
        {
          "output_type": "execute_result",
          "data": {
            "text/plain": [
              "int"
            ]
          },
          "metadata": {},
          "execution_count": 35
        }
      ]
    },
    {
      "cell_type": "code",
      "source": [
        "type(85.3)"
      ],
      "metadata": {
        "colab": {
          "base_uri": "https://localhost:8080/"
        },
        "id": "n_swO7iOQgN7",
        "outputId": "55d61176-ea2e-4a58-dc1f-0e19b4706ada"
      },
      "execution_count": null,
      "outputs": [
        {
          "output_type": "execute_result",
          "data": {
            "text/plain": [
              "float"
            ]
          },
          "metadata": {},
          "execution_count": 36
        }
      ]
    },
    {
      "cell_type": "code",
      "source": [
        "type([1, 3, 5])"
      ],
      "metadata": {
        "colab": {
          "base_uri": "https://localhost:8080/"
        },
        "id": "dY4-7TwmQmEC",
        "outputId": "f0d9f646-9996-4db4-bd5e-dd6cc84c3ef3"
      },
      "execution_count": null,
      "outputs": [
        {
          "output_type": "execute_result",
          "data": {
            "text/plain": [
              "list"
            ]
          },
          "metadata": {},
          "execution_count": 38
        }
      ]
    },
    {
      "cell_type": "code",
      "source": [
        "type((2,6,7))"
      ],
      "metadata": {
        "colab": {
          "base_uri": "https://localhost:8080/"
        },
        "id": "zZSpIn6TQvci",
        "outputId": "aaeb7d89-2a4f-49bd-f439-1cce8ab46b0f"
      },
      "execution_count": null,
      "outputs": [
        {
          "output_type": "execute_result",
          "data": {
            "text/plain": [
              "tuple"
            ]
          },
          "metadata": {},
          "execution_count": 40
        }
      ]
    },
    {
      "cell_type": "code",
      "source": [
        "a = 2, 6, 7\n",
        "type(a)"
      ],
      "metadata": {
        "colab": {
          "base_uri": "https://localhost:8080/"
        },
        "id": "UpKS8Y_2Q-KU",
        "outputId": "da8acef5-bac7-4966-811a-3c2f0820ac60"
      },
      "execution_count": null,
      "outputs": [
        {
          "output_type": "execute_result",
          "data": {
            "text/plain": [
              "tuple"
            ]
          },
          "metadata": {},
          "execution_count": 43
        }
      ]
    },
    {
      "cell_type": "code",
      "source": [
        "#함수를 정의할 때는 def 그 다음 정의해야하는데 무조건 뒤에 ()있어야함\n",
        "def call() :\n",
        "  return 2,3,4;"
      ],
      "metadata": {
        "id": "Mi5ioxeLRCo5"
      },
      "execution_count": null,
      "outputs": []
    },
    {
      "cell_type": "code",
      "source": [
        "print(call()) #컨테이너 자료형은 기호가 있음 / 만약 ()소괄호로 출력되면 tuple이라고 알면 됨\n",
        "print(type(call()))"
      ],
      "metadata": {
        "colab": {
          "base_uri": "https://localhost:8080/"
        },
        "id": "3hgqKVcbRpNR",
        "outputId": "c201c1f4-fc85-4b40-8a44-287578176d0c"
      },
      "execution_count": null,
      "outputs": [
        {
          "output_type": "stream",
          "name": "stdout",
          "text": [
            "(2, 3, 4)\n",
            "<class 'tuple'>\n"
          ]
        }
      ]
    },
    {
      "cell_type": "code",
      "source": [
        "type({1,2,3})  #set= 집합/ 기호는 중괄호  # 대괄호는 list"
      ],
      "metadata": {
        "colab": {
          "base_uri": "https://localhost:8080/"
        },
        "id": "UtI8_cs3Rsay",
        "outputId": "6a3ec8fd-5d82-4859-ccba-89de0baecb8a"
      },
      "execution_count": null,
      "outputs": [
        {
          "output_type": "execute_result",
          "data": {
            "text/plain": [
              "set"
            ]
          },
          "metadata": {},
          "execution_count": 52
        }
      ]
    },
    {
      "cell_type": "code",
      "source": [
        "type({a:3, b:4}) #set과 dic은 둘다 중괄호 사용함"
      ],
      "metadata": {
        "colab": {
          "base_uri": "https://localhost:8080/"
        },
        "id": "UH1OFlWOScPC",
        "outputId": "9591d88b-f1ae-4c91-94a4-07ea5b0ae030"
      },
      "execution_count": null,
      "outputs": [
        {
          "output_type": "execute_result",
          "data": {
            "text/plain": [
              "dict"
            ]
          },
          "metadata": {},
          "execution_count": 53
        }
      ]
    },
    {
      "cell_type": "code",
      "source": [
        "type('python') #자바와 다르게 문자와 문자열 따로 구분하지 않음"
      ],
      "metadata": {
        "colab": {
          "base_uri": "https://localhost:8080/"
        },
        "id": "PlkEaIoESvFS",
        "outputId": "d5445b79-c8aa-4037-f9b0-e61083015bba"
      },
      "execution_count": null,
      "outputs": [
        {
          "output_type": "execute_result",
          "data": {
            "text/plain": [
              "str"
            ]
          },
          "metadata": {},
          "execution_count": 55
        }
      ]
    },
    {
      "cell_type": "code",
      "source": [
        "#파이썬에서 제공되는 정보들은 모두 객체로 제공되며 객체에는 값과 메소드가 있다\n"
      ],
      "metadata": {
        "id": "mRg3K7qnS8sS"
      },
      "execution_count": null,
      "outputs": []
    },
    {
      "cell_type": "markdown",
      "source": [
        "dir() : 자료형의 내장함수를 검색할 수 있다."
      ],
      "metadata": {
        "id": "czLNAurkUj9N"
      }
    },
    {
      "cell_type": "code",
      "source": [
        "print(dir(str)) #str은 변경이 안됨 그래서 remove, insert같은 함수가 없음"
      ],
      "metadata": {
        "colab": {
          "base_uri": "https://localhost:8080/"
        },
        "id": "3rWraZLKToap",
        "outputId": "f39dbc7e-4cd2-4694-b453-5796d13ddca5"
      },
      "execution_count": null,
      "outputs": [
        {
          "output_type": "stream",
          "name": "stdout",
          "text": [
            "['__add__', '__class__', '__contains__', '__delattr__', '__dir__', '__doc__', '__eq__', '__format__', '__ge__', '__getattribute__', '__getitem__', '__getnewargs__', '__gt__', '__hash__', '__init__', '__init_subclass__', '__iter__', '__le__', '__len__', '__lt__', '__mod__', '__mul__', '__ne__', '__new__', '__reduce__', '__reduce_ex__', '__repr__', '__rmod__', '__rmul__', '__setattr__', '__sizeof__', '__str__', '__subclasshook__', 'capitalize', 'casefold', 'center', 'count', 'encode', 'endswith', 'expandtabs', 'find', 'format', 'format_map', 'index', 'isalnum', 'isalpha', 'isascii', 'isdecimal', 'isdigit', 'isidentifier', 'islower', 'isnumeric', 'isprintable', 'isspace', 'istitle', 'isupper', 'join', 'ljust', 'lower', 'lstrip', 'maketrans', 'partition', 'removeprefix', 'removesuffix', 'replace', 'rfind', 'rindex', 'rjust', 'rpartition', 'rsplit', 'rstrip', 'split', 'splitlines', 'startswith', 'strip', 'swapcase', 'title', 'translate', 'upper', 'zfill']\n"
          ]
        }
      ]
    },
    {
      "cell_type": "code",
      "source": [
        "print(dir(list))"
      ],
      "metadata": {
        "colab": {
          "base_uri": "https://localhost:8080/"
        },
        "id": "4dD2irb2Tvih",
        "outputId": "10188d6e-cca9-44b0-b96f-b1c264fadbd8"
      },
      "execution_count": null,
      "outputs": [
        {
          "output_type": "stream",
          "name": "stdout",
          "text": [
            "['__add__', '__class__', '__class_getitem__', '__contains__', '__delattr__', '__delitem__', '__dir__', '__doc__', '__eq__', '__format__', '__ge__', '__getattribute__', '__getitem__', '__gt__', '__hash__', '__iadd__', '__imul__', '__init__', '__init_subclass__', '__iter__', '__le__', '__len__', '__lt__', '__mul__', '__ne__', '__new__', '__reduce__', '__reduce_ex__', '__repr__', '__reversed__', '__rmul__', '__setattr__', '__setitem__', '__sizeof__', '__str__', '__subclasshook__', 'append', 'clear', 'copy', 'count', 'extend', 'index', 'insert', 'pop', 'remove', 'reverse', 'sort']\n"
          ]
        }
      ]
    },
    {
      "cell_type": "code",
      "source": [
        "a=[1,2,3]\n",
        "print(a.__dir__())"
      ],
      "metadata": {
        "colab": {
          "base_uri": "https://localhost:8080/"
        },
        "id": "gfLHPKkpUHvR",
        "outputId": "968b1ffd-a48c-4c1f-cbcf-3d6b7dd6a2f1"
      },
      "execution_count": null,
      "outputs": [
        {
          "output_type": "stream",
          "name": "stdout",
          "text": [
            "['__new__', '__repr__', '__hash__', '__getattribute__', '__lt__', '__le__', '__eq__', '__ne__', '__gt__', '__ge__', '__iter__', '__init__', '__len__', '__getitem__', '__setitem__', '__delitem__', '__add__', '__mul__', '__rmul__', '__contains__', '__iadd__', '__imul__', '__reversed__', '__sizeof__', 'clear', 'copy', 'append', 'insert', 'extend', 'pop', 'remove', 'index', 'count', 'reverse', 'sort', '__class_getitem__', '__doc__', '__str__', '__setattr__', '__delattr__', '__reduce_ex__', '__reduce__', '__subclasshook__', '__init_subclass__', '__format__', '__dir__', '__class__']\n"
          ]
        }
      ]
    },
    {
      "cell_type": "markdown",
      "source": [
        "help(): 자료형에서 제공하는 메소드 사용법을 검색할 수 있다."
      ],
      "metadata": {
        "id": "LVzGjYB6UxUE"
      }
    },
    {
      "cell_type": "code",
      "source": [
        "#help(str)\n",
        "help(str.index)"
      ],
      "metadata": {
        "colab": {
          "base_uri": "https://localhost:8080/"
        },
        "id": "60zKhuxVVOOh",
        "outputId": "10b4a021-2655-46b1-a0d5-91149765d6ae"
      },
      "execution_count": null,
      "outputs": [
        {
          "output_type": "stream",
          "name": "stdout",
          "text": [
            "Help on method_descriptor:\n",
            "\n",
            "index(...)\n",
            "    S.index(sub[, start[, end]]) -> int\n",
            "    \n",
            "    Return the lowest index in S where substring sub is found,\n",
            "    such that sub is contained within S[start:end].  Optional\n",
            "    arguments start and end are interpreted as in slice notation.\n",
            "    \n",
            "    Raises ValueError when the substring is not found.\n",
            "\n"
          ]
        }
      ]
    },
    {
      "cell_type": "code",
      "source": [
        " #'hello',index('l')\n",
        "#하면 앞의 l의 인덱스를 읽게 됨\n",
        "'hello'.index('l')"
      ],
      "metadata": {
        "colab": {
          "base_uri": "https://localhost:8080/"
        },
        "id": "t2rZo57aVRYZ",
        "outputId": "84d5867c-865a-4a97-ba64-011aba5b2ff0"
      },
      "execution_count": null,
      "outputs": [
        {
          "output_type": "execute_result",
          "data": {
            "text/plain": [
              "2"
            ]
          },
          "metadata": {},
          "execution_count": 65
        }
      ]
    },
    {
      "cell_type": "code",
      "source": [
        "# 시퀀스에는 문자열 리스트 튜플 자료형이 있다."
      ],
      "metadata": {
        "id": "jbSlmKIxWLKh"
      },
      "execution_count": null,
      "outputs": []
    },
    {
      "cell_type": "markdown",
      "source": [
        "## Sequence 자료형\n",
        "- Sequence은 여러 객체를 저장할 수 있는 순서를 갖는 연속된 자료형이다.\n",
        "- 자료형 종류 : str, tuple, list\n",
        "- sequence형의 공통적인 연산\n",
        "  - 인덱싱(indexing)\n",
        "  - 슬라이싱(slicing)\n",
        "  - 연결하기\n",
        "  - 반복하기\n",
        "  - 멤버 검사\n",
        "  - 길이정보"
      ],
      "metadata": {
        "id": "LV6DKaY8aXLz"
      }
    },
    {
      "cell_type": "markdown",
      "source": [
        "문자열(str)\n",
        "\n",
        "문자열은 문자들을 표현하는 자료형으로 작은따옴표(')나 큰따옴표(\")로 묶는다.\n",
        "문자열의 슬라이싱 : [인덱스 시작 : 인덱스 끝 : 스텝]\n",
        "스텝의 default은 1의 값을 갖는다."
      ],
      "metadata": {
        "id": "SyOPqSSSadSB"
      }
    },
    {
      "cell_type": "code",
      "source": [
        "a = 'Life is too short. You need python'\n",
        "print(a)\n",
        "\n",
        "a = \"Life is too short. You need python\"\n",
        "print (a)"
      ],
      "metadata": {
        "colab": {
          "base_uri": "https://localhost:8080/"
        },
        "id": "xOAGaYexaPt4",
        "outputId": "a1680317-27d4-4ba1-d47f-9fb822345cf8"
      },
      "execution_count": null,
      "outputs": [
        {
          "output_type": "stream",
          "name": "stdout",
          "text": [
            "Life is too short. You need python\n",
            "Life is too short. You need python\n"
          ]
        }
      ]
    },
    {
      "cell_type": "code",
      "source": [
        "a = \"Python's favorite food is perl\"\n",
        "print(a)\n",
        "print(id(a))\n",
        "\n",
        "a = '\"Python is very easy.\" he says.'\n",
        "print(a)\n",
        "print(id(a))\n",
        "\n",
        "#id는 메모리 고유값을 나타냄\n",
        "\n",
        "a = 'Python\\'s favorite food is perl'\n",
        "print(a)\n",
        "\n",
        "a = \"\\\"Python is very easy.\\\" he says.\"\n",
        "print(a)\n",
        "\n",
        "#문자열 그대로 출력하고 싶다면 역슬래쉬 또는 \\를 앞에 붙여준다\n"
      ],
      "metadata": {
        "colab": {
          "base_uri": "https://localhost:8080/"
        },
        "id": "pdqJniLpatfA",
        "outputId": "656ca88d-ddf0-4150-8ac4-506759942400"
      },
      "execution_count": null,
      "outputs": [
        {
          "output_type": "stream",
          "name": "stdout",
          "text": [
            "Python's favorite food is perl\n",
            "137278334071904\n",
            "\"Python is very easy.\" he says.\n",
            "137278334059264\n",
            "Python's favorite food is perl\n",
            "\"Python is very easy.\" he says.\n"
          ]
        }
      ]
    },
    {
      "cell_type": "code",
      "source": [
        "#파이썬에서는 한 줄이 한 문장으로 취급된다. 여러줄을 한 문장으로 만들고 싶다면 \"\"\" 또는 ''' 사용\n",
        "b = \"\"\"\n",
        "   Life is too short\n",
        "   You need python\n",
        "\"\"\"\n",
        "print(b)"
      ],
      "metadata": {
        "colab": {
          "base_uri": "https://localhost:8080/"
        },
        "id": "7ykZ1WncbHk_",
        "outputId": "104d501c-1918-42cb-f3fe-45fdbc336f5a"
      },
      "execution_count": null,
      "outputs": [
        {
          "output_type": "stream",
          "name": "stdout",
          "text": [
            "\n",
            "   Life is too short\n",
            "   You need python\n",
            "\n"
          ]
        }
      ]
    },
    {
      "cell_type": "code",
      "source": [
        "a = 'Life is too short'\n",
        "len(a)\n",
        "\n",
        "#문자열의 길이를 알고싶을 때 len 사용 / 공백도 취급하기 때문에 조심해야함"
      ],
      "metadata": {
        "colab": {
          "base_uri": "https://localhost:8080/"
        },
        "id": "tg8nDY-QeDB2",
        "outputId": "14363e58-ff3a-4301-9208-0573d54fa7eb"
      },
      "execution_count": null,
      "outputs": [
        {
          "output_type": "execute_result",
          "data": {
            "text/plain": [
              "17"
            ]
          },
          "metadata": {},
          "execution_count": 81
        }
      ]
    },
    {
      "cell_type": "code",
      "source": [
        "s_val = 'hello python!'\n",
        "print(s_val)"
      ],
      "metadata": {
        "colab": {
          "base_uri": "https://localhost:8080/"
        },
        "id": "tjDdGRFoebwI",
        "outputId": "c7c8621d-89c5-411e-cca7-c8d1bbae5380"
      },
      "execution_count": null,
      "outputs": [
        {
          "output_type": "stream",
          "name": "stdout",
          "text": [
            "hello python!\n"
          ]
        }
      ]
    },
    {
      "cell_type": "code",
      "source": [
        "#indexing(인덱싱)\n",
        "s_val[1]\n",
        "#인덱싱을 통해 특정 문자를 가져올 수 있다."
      ],
      "metadata": {
        "colab": {
          "base_uri": "https://localhost:8080/",
          "height": 35
        },
        "id": "Jy5jau1aerQH",
        "outputId": "3f475306-c268-460b-8cdc-526acc8a30b0"
      },
      "execution_count": null,
      "outputs": [
        {
          "output_type": "execute_result",
          "data": {
            "text/plain": [
              "'e'"
            ],
            "application/vnd.google.colaboratory.intrinsic+json": {
              "type": "string"
            }
          },
          "metadata": {},
          "execution_count": 87
        }
      ]
    },
    {
      "cell_type": "code",
      "source": [
        "#slicing (슬라이싱) [start:end:step] step(1씩 증가한다)은 생략가능\n",
        "s_val[0:3] #0부터 3미만가지 가져옴"
      ],
      "metadata": {
        "colab": {
          "base_uri": "https://localhost:8080/",
          "height": 35
        },
        "id": "HysafNqVexXf",
        "outputId": "121bf462-fe7b-41bf-dd69-364e21000405"
      },
      "execution_count": null,
      "outputs": [
        {
          "output_type": "execute_result",
          "data": {
            "text/plain": [
              "'hel'"
            ],
            "application/vnd.google.colaboratory.intrinsic+json": {
              "type": "string"
            }
          },
          "metadata": {},
          "execution_count": 86
        }
      ]
    },
    {
      "cell_type": "code",
      "source": [
        "s_val[1:2] #1부터 2 미만까지/ 슬라이싱은 콜론 ':' 이 한개이상 무조건 들어가야 함 / 인덱싱과 슬라이싱을 구분하는 것이 콜론"
      ],
      "metadata": {
        "colab": {
          "base_uri": "https://localhost:8080/",
          "height": 35
        },
        "id": "uolQwUlVf1aP",
        "outputId": "839ea995-dae4-41c2-ddfd-2339e7c2eb1e"
      },
      "execution_count": null,
      "outputs": [
        {
          "output_type": "execute_result",
          "data": {
            "text/plain": [
              "'e'"
            ],
            "application/vnd.google.colaboratory.intrinsic+json": {
              "type": "string"
            }
          },
          "metadata": {},
          "execution_count": 89
        }
      ]
    },
    {
      "cell_type": "code",
      "source": [
        "s_val[1:] # 1부터 끝까지"
      ],
      "metadata": {
        "colab": {
          "base_uri": "https://localhost:8080/",
          "height": 35
        },
        "id": "ETI41f8GgMm_",
        "outputId": "45db9e5b-903e-4321-f948-15918ff04198"
      },
      "execution_count": null,
      "outputs": [
        {
          "output_type": "execute_result",
          "data": {
            "text/plain": [
              "'ello python!'"
            ],
            "application/vnd.google.colaboratory.intrinsic+json": {
              "type": "string"
            }
          },
          "metadata": {},
          "execution_count": 90
        }
      ]
    },
    {
      "cell_type": "code",
      "source": [
        "#변수의 모든 데이터를 가지고 옴\n",
        "print(s_val[0:])\n",
        "print(s_val[:])"
      ],
      "metadata": {
        "colab": {
          "base_uri": "https://localhost:8080/"
        },
        "id": "QJ9y2niUgjqg",
        "outputId": "26dec4b9-09a0-469a-ee34-8ed3cfc6a3c5"
      },
      "execution_count": null,
      "outputs": [
        {
          "output_type": "stream",
          "name": "stdout",
          "text": [
            "hello python!\n",
            "hello python!\n"
          ]
        }
      ]
    },
    {
      "cell_type": "code",
      "source": [
        "s_val[-1]"
      ],
      "metadata": {
        "colab": {
          "base_uri": "https://localhost:8080/",
          "height": 35
        },
        "id": "FXFNF6G9gpuO",
        "outputId": "ffa1ff3c-7eaf-474a-c176-d9c3c65abdf0"
      },
      "execution_count": null,
      "outputs": [
        {
          "output_type": "execute_result",
          "data": {
            "text/plain": [
              "'!'"
            ],
            "application/vnd.google.colaboratory.intrinsic+json": {
              "type": "string"
            }
          },
          "metadata": {},
          "execution_count": 95
        }
      ]
    },
    {
      "cell_type": "code",
      "source": [
        "s_val[-3:-1]"
      ],
      "metadata": {
        "colab": {
          "base_uri": "https://localhost:8080/",
          "height": 35
        },
        "id": "1fQ5tFoshT9f",
        "outputId": "3f5a35a0-df53-40ed-896e-13251f00b2c6"
      },
      "execution_count": null,
      "outputs": [
        {
          "output_type": "execute_result",
          "data": {
            "text/plain": [
              "'on'"
            ],
            "application/vnd.google.colaboratory.intrinsic+json": {
              "type": "string"
            }
          },
          "metadata": {},
          "execution_count": 97
        }
      ]
    },
    {
      "cell_type": "code",
      "source": [
        "s_val[::2] #step 값을 2로 줬을때"
      ],
      "metadata": {
        "colab": {
          "base_uri": "https://localhost:8080/",
          "height": 35
        },
        "id": "pMotpl2Qhbkm",
        "outputId": "2c64eb66-b24d-4e25-98aa-6a94bdfe7ebd"
      },
      "execution_count": null,
      "outputs": [
        {
          "output_type": "execute_result",
          "data": {
            "text/plain": [
              "'hlopto!'"
            ],
            "application/vnd.google.colaboratory.intrinsic+json": {
              "type": "string"
            }
          },
          "metadata": {},
          "execution_count": 99
        }
      ]
    },
    {
      "cell_type": "code",
      "source": [
        "s_val[::-1]"
      ],
      "metadata": {
        "colab": {
          "base_uri": "https://localhost:8080/",
          "height": 35
        },
        "id": "m3uAqMX_hus_",
        "outputId": "3aced493-32f6-4ee6-c5ae-bfbf3790750e"
      },
      "execution_count": null,
      "outputs": [
        {
          "output_type": "execute_result",
          "data": {
            "text/plain": [
              "'!nohtyp olleh'"
            ],
            "application/vnd.google.colaboratory.intrinsic+json": {
              "type": "string"
            }
          },
          "metadata": {},
          "execution_count": 100
        }
      ]
    },
    {
      "cell_type": "code",
      "source": [
        "s_val[13:0:-1]\n",
        "s_val[13:-1:-1]\n",
        "s_val[13::-1]"
      ],
      "metadata": {
        "colab": {
          "base_uri": "https://localhost:8080/",
          "height": 35
        },
        "id": "SvowOScKh5B2",
        "outputId": "f2a830d4-584b-46f6-84ff-ee3cdc549af2"
      },
      "execution_count": null,
      "outputs": [
        {
          "output_type": "execute_result",
          "data": {
            "text/plain": [
              "'!nohtyp olleh'"
            ],
            "application/vnd.google.colaboratory.intrinsic+json": {
              "type": "string"
            }
          },
          "metadata": {},
          "execution_count": 104
        }
      ]
    },
    {
      "cell_type": "markdown",
      "source": [
        "문자열의 연결하기는 (+)연산자를 사용"
      ],
      "metadata": {
        "id": "xGct2nyAixnS"
      }
    },
    {
      "cell_type": "code",
      "source": [
        "s_val2 = 'hello' + ' ' + 'python'\n",
        "s_val2\n",
        "\n",
        "# + 는 문자열에서 연결 해주는 역할"
      ],
      "metadata": {
        "colab": {
          "base_uri": "https://localhost:8080/",
          "height": 35
        },
        "id": "H7oP8yoaiISG",
        "outputId": "ac59deaf-d970-48e4-f2d9-a14601f2e9b1"
      },
      "execution_count": null,
      "outputs": [
        {
          "output_type": "execute_result",
          "data": {
            "text/plain": [
              "'hello python'"
            ],
            "application/vnd.google.colaboratory.intrinsic+json": {
              "type": "string"
            }
          },
          "metadata": {},
          "execution_count": 105
        }
      ]
    },
    {
      "cell_type": "code",
      "source": [
        "#파이썬에서는 다른 타입(자료형)끼리 (+) 연산자 사용 안됨\n",
        "s_val2 = 'hello' +2 #파이썬에서는 다른 타입끼리 + 사용 안됨\n",
        "s_val2"
      ],
      "metadata": {
        "colab": {
          "base_uri": "https://localhost:8080/",
          "height": 213
        },
        "id": "P1nrQD3ejD3O",
        "outputId": "a3acc3fd-217a-463e-b8cb-3da42480119c"
      },
      "execution_count": null,
      "outputs": [
        {
          "output_type": "error",
          "ename": "TypeError",
          "evalue": "ignored",
          "traceback": [
            "\u001b[0;31m---------------------------------------------------------------------------\u001b[0m",
            "\u001b[0;31mTypeError\u001b[0m                                 Traceback (most recent call last)",
            "\u001b[0;32m<ipython-input-108-27040502c149>\u001b[0m in \u001b[0;36m<cell line: 2>\u001b[0;34m()\u001b[0m\n\u001b[1;32m      1\u001b[0m \u001b[0;31m#파이썬에서는 다른 타입(자료형)끼리 (+) 연산자 사용 안됨\u001b[0m\u001b[0;34m\u001b[0m\u001b[0;34m\u001b[0m\u001b[0m\n\u001b[0;32m----> 2\u001b[0;31m \u001b[0ms_val2\u001b[0m \u001b[0;34m=\u001b[0m \u001b[0;34m'hello'\u001b[0m \u001b[0;34m+\u001b[0m\u001b[0;36m2\u001b[0m \u001b[0;31m#파이썬에서는 다른 타입끼리 + 사용 안됨\u001b[0m\u001b[0;34m\u001b[0m\u001b[0;34m\u001b[0m\u001b[0m\n\u001b[0m\u001b[1;32m      3\u001b[0m \u001b[0ms_val2\u001b[0m\u001b[0;34m\u001b[0m\u001b[0;34m\u001b[0m\u001b[0m\n",
            "\u001b[0;31mTypeError\u001b[0m: can only concatenate str (not \"int\") to str"
          ]
        }
      ]
    },
    {
      "cell_type": "markdown",
      "source": [
        "## 문자열 반복하기는 (*) 연산자를 사용"
      ],
      "metadata": {
        "id": "58FL9bmCqjEF"
      }
    },
    {
      "cell_type": "code",
      "source": [
        "s_val = 'win' *3\n",
        "s_val"
      ],
      "metadata": {
        "id": "ibPiI1U6jOHD",
        "colab": {
          "base_uri": "https://localhost:8080/",
          "height": 35
        },
        "outputId": "ed4818c5-566a-4785-83f9-b0b386499e3a"
      },
      "execution_count": null,
      "outputs": [
        {
          "output_type": "execute_result",
          "data": {
            "text/plain": [
              "'winwinwin'"
            ],
            "application/vnd.google.colaboratory.intrinsic+json": {
              "type": "string"
            }
          },
          "metadata": {},
          "execution_count": 109
        }
      ]
    },
    {
      "cell_type": "code",
      "source": [
        "s_val = 'win' * 'win'\n",
        "s_val"
      ],
      "metadata": {
        "colab": {
          "base_uri": "https://localhost:8080/",
          "height": 196
        },
        "id": "0pBqW1e8qsik",
        "outputId": "10f8b822-e781-4330-9f84-64e72860a7da"
      },
      "execution_count": null,
      "outputs": [
        {
          "output_type": "error",
          "ename": "TypeError",
          "evalue": "ignored",
          "traceback": [
            "\u001b[0;31m---------------------------------------------------------------------------\u001b[0m",
            "\u001b[0;31mTypeError\u001b[0m                                 Traceback (most recent call last)",
            "\u001b[0;32m<ipython-input-112-1c89dd4a84b8>\u001b[0m in \u001b[0;36m<cell line: 1>\u001b[0;34m()\u001b[0m\n\u001b[0;32m----> 1\u001b[0;31m \u001b[0ms_val\u001b[0m \u001b[0;34m=\u001b[0m \u001b[0;34m'win'\u001b[0m \u001b[0;34m*\u001b[0m \u001b[0;34m'win'\u001b[0m\u001b[0;34m\u001b[0m\u001b[0;34m\u001b[0m\u001b[0m\n\u001b[0m\u001b[1;32m      2\u001b[0m \u001b[0ms_val\u001b[0m\u001b[0;34m\u001b[0m\u001b[0;34m\u001b[0m\u001b[0m\n",
            "\u001b[0;31mTypeError\u001b[0m: can't multiply sequence by non-int of type 'str'"
          ]
        }
      ]
    },
    {
      "cell_type": "markdown",
      "source": [
        "##문자열을 변경할 때 슬라이싱과 연결하기 사용"
      ],
      "metadata": {
        "id": "Rb9OwOX5rlTd"
      }
    },
    {
      "cell_type": "code",
      "source": [
        "s_val = 'hello python1!'\n"
      ],
      "metadata": {
        "id": "285fGepNq-Bb"
      },
      "execution_count": 120,
      "outputs": []
    },
    {
      "cell_type": "code",
      "source": [
        "s_check = 'H' + s_val[1:]\n",
        "s_check"
      ],
      "metadata": {
        "colab": {
          "base_uri": "https://localhost:8080/",
          "height": 35
        },
        "id": "bAAHPV-yrqsO",
        "outputId": "a31cb67d-ee80-4b17-a523-f7f643da86e8"
      },
      "execution_count": 121,
      "outputs": [
        {
          "output_type": "execute_result",
          "data": {
            "text/plain": [
              "'Hello python1!'"
            ],
            "application/vnd.google.colaboratory.intrinsic+json": {
              "type": "string"
            }
          },
          "metadata": {},
          "execution_count": 121
        }
      ]
    },
    {
      "cell_type": "markdown",
      "source": [
        "#in연산자로 멤버 검사를 해서 부분 문자열의 존재 확인"
      ],
      "metadata": {
        "id": "9Ef8oohusLVe"
      }
    },
    {
      "cell_type": "code",
      "source": [
        "s_val = 'red green blue'\n",
        "s_val"
      ],
      "metadata": {
        "colab": {
          "base_uri": "https://localhost:8080/",
          "height": 35
        },
        "id": "k6lWlE7IsJw7",
        "outputId": "ada8bfdc-f387-4a80-c078-89920806e522"
      },
      "execution_count": 118,
      "outputs": [
        {
          "output_type": "execute_result",
          "data": {
            "text/plain": [
              "'red green blue'"
            ],
            "application/vnd.google.colaboratory.intrinsic+json": {
              "type": "string"
            }
          },
          "metadata": {},
          "execution_count": 118
        }
      ]
    },
    {
      "cell_type": "code",
      "source": [
        "#s_val 변수에 'green'문자열이 있니?\n",
        "'green' in s_val"
      ],
      "metadata": {
        "colab": {
          "base_uri": "https://localhost:8080/"
        },
        "id": "EmjQF7RUshrb",
        "outputId": "e48401d7-5da9-4a5f-c405-a127b2ab9649"
      },
      "execution_count": 128,
      "outputs": [
        {
          "output_type": "execute_result",
          "data": {
            "text/plain": [
              "False"
            ]
          },
          "metadata": {},
          "execution_count": 128
        }
      ]
    },
    {
      "cell_type": "code",
      "source": [
        "'white' in s_val"
      ],
      "metadata": {
        "colab": {
          "base_uri": "https://localhost:8080/"
        },
        "id": "MjgOVPnSsxmb",
        "outputId": "9ec18a39-0e59-454e-d958-36308dc99cfa"
      },
      "execution_count": 127,
      "outputs": [
        {
          "output_type": "execute_result",
          "data": {
            "text/plain": [
              "False"
            ]
          },
          "metadata": {},
          "execution_count": 127
        }
      ]
    },
    {
      "cell_type": "markdown",
      "source": [
        "문자열 서식지정 : 어떤 문서 양식을 만들어 넣고 빈칸에 필요한 내용을 채워서 문서를 지정한다."
      ],
      "metadata": {
        "id": "J9kRCgx2wfPS"
      }
    },
    {
      "cell_type": "code",
      "source": [
        "s_val7 = 'python'\n",
        "s_val8 = 83.5\n",
        "print('%s 의 점수는 %.1f입니다.' % ( s_val7, s_val8)) # python1, 2방식\n",
        "print('{} 의 점수는 {}입니다.'.format(s_val7, s_val8)) # python3 방식\n",
        "print('{1} 의 점수는 {0}입니다.'.format(s_val8, s_val7))\n",
        "print('{subject} 의 점수는 {jumsu}입니다.'.format(jumsu=s_val8, subject=s_val7))\n",
        "print('{{0}} 의 점수는 {{1}}입니다.'.format(s_val7, s_val8)) # { }자체를 출력할때 {{}}을 한다.\n",
        "print('{{{0}}} 의 점수는 {{{1}}}입니다.'.format(s_val7, s_val8)) # {}자체와 값을 출력할때는 {{{}}}을 한다.\n",
        "\n",
        "print('{0:<10} 의 점수는 {1}입니다.'.format(s_val7, s_val8))  # 10자리 확보하고 남은 공간은 오른쪽을 여백으로 채운다.\n",
        "#print('{:<10} 의 점수는 {}입니다.'.format(s_val7, s_val8))\n",
        "\n",
        "print('{0:>10} 의 점수는 {1}입니다.'.format(s_val7, s_val8))  # 10자리 확보하고 남은 공간은 왼쪽을 여백으로 채운다.\n",
        "#print('{:>10} 의 점수는 {}입니다.'.format(s_val7, s_val8))"
      ],
      "metadata": {
        "colab": {
          "base_uri": "https://localhost:8080/"
        },
        "id": "zx0xf6OStCbD",
        "outputId": "f7ac3ed4-7573-4a36-809c-b5acfb01c8d8"
      },
      "execution_count": 132,
      "outputs": [
        {
          "output_type": "stream",
          "name": "stdout",
          "text": [
            "python 의 점수는 83.5입니다.\n",
            "python 의 점수는 83.5입니다.\n",
            "python 의 점수는 83.5입니다.\n",
            "python 의 점수는 83.5입니다.\n",
            "{0} 의 점수는 {1}입니다.\n",
            "{python} 의 점수는 {83.5}입니다.\n",
            "python     의 점수는 83.5입니다.\n",
            "    python 의 점수는 83.5입니다.\n"
          ]
        }
      ]
    },
    {
      "cell_type": "markdown",
      "source": [
        "##문자열에서 제공하는 메소드"
      ],
      "metadata": {
        "id": "6FjygEk_0wMq"
      }
    },
    {
      "cell_type": "code",
      "source": [
        "a = 'hobby'\n",
        "a.count('b')\n",
        "# count는 특정 문자의 갯수 리턴"
      ],
      "metadata": {
        "colab": {
          "base_uri": "https://localhost:8080/"
        },
        "id": "LeQOb5aFwpA7",
        "outputId": "0229e7f6-f761-4a33-b03c-48fddc970f39"
      },
      "execution_count": 137,
      "outputs": [
        {
          "output_type": "execute_result",
          "data": {
            "text/plain": [
              "2"
            ]
          },
          "metadata": {},
          "execution_count": 137
        }
      ]
    },
    {
      "cell_type": "code",
      "source": [
        "#len(a)은 모든 문자열의 갯수 (파이썬에서 제공하는 함수임)\n",
        "len(a)"
      ],
      "metadata": {
        "colab": {
          "base_uri": "https://localhost:8080/"
        },
        "id": "62ENbfTG0806",
        "outputId": "c9142da1-e9f3-4726-e40b-48d3e8d71bf7"
      },
      "execution_count": 139,
      "outputs": [
        {
          "output_type": "execute_result",
          "data": {
            "text/plain": [
              "5"
            ]
          },
          "metadata": {},
          "execution_count": 139
        }
      ]
    },
    {
      "cell_type": "code",
      "source": [
        "print(a.find('b')) #find 는 찾는 문자가 없으면 -1을 리턴\n",
        "print(a.index('b')) #index는 찾는 문자가 없으면 에러\n",
        "# b라는 글자의 인덱스 번호를 리턴"
      ],
      "metadata": {
        "colab": {
          "base_uri": "https://localhost:8080/"
        },
        "id": "T_D8d4AQ2JCR",
        "outputId": "2ca882f8-46c3-4ace-8d3c-93d030a2d533"
      },
      "execution_count": 144,
      "outputs": [
        {
          "output_type": "stream",
          "name": "stdout",
          "text": [
            "2\n",
            "2\n"
          ]
        }
      ]
    },
    {
      "cell_type": "code",
      "source": [
        "#파이썬은 없으면 none으로 리턴한다?"
      ],
      "metadata": {
        "id": "oVjKTdLS2NGB"
      },
      "execution_count": 145,
      "outputs": []
    },
    {
      "cell_type": "code",
      "source": [
        "# join은'apple' 문자열의 각각의 문자 사이에 ','를 삽입해준다. 쉼표는 아무 문자열로 대체 가능"
      ],
      "metadata": {
        "id": "VVbqUTQ53g6x"
      },
      "execution_count": null,
      "outputs": []
    },
    {
      "cell_type": "code",
      "source": [
        "','.join('apple')"
      ],
      "metadata": {
        "id": "hCu9BUY43SCx",
        "colab": {
          "base_uri": "https://localhost:8080/",
          "height": 35
        },
        "outputId": "46f566c7-fdeb-41b9-f92e-201dac7243b8"
      },
      "execution_count": 147,
      "outputs": [
        {
          "output_type": "execute_result",
          "data": {
            "text/plain": [
              "'a,p,p,l,e'"
            ],
            "application/vnd.google.colaboratory.intrinsic+json": {
              "type": "string"
            }
          },
          "metadata": {},
          "execution_count": 147
        }
      ]
    },
    {
      "cell_type": "code",
      "source": [
        "#파이썬은 리스트를 사용함/ 배열이라는 개념은 없음 (자바는 배열있고 리스트 없음)"
      ],
      "metadata": {
        "id": "kADoaq7m3Z6J"
      },
      "execution_count": 148,
      "outputs": []
    },
    {
      "cell_type": "code",
      "source": [
        "'*'.join(['red','green','blue'])"
      ],
      "metadata": {
        "colab": {
          "base_uri": "https://localhost:8080/",
          "height": 35
        },
        "id": "YmWYn4Io4EJY",
        "outputId": "4c4f5212-a311-4be2-94db-dbd4be42d021"
      },
      "execution_count": 149,
      "outputs": [
        {
          "output_type": "execute_result",
          "data": {
            "text/plain": [
              "'red*green*blue'"
            ],
            "application/vnd.google.colaboratory.intrinsic+json": {
              "type": "string"
            }
          },
          "metadata": {},
          "execution_count": 149
        }
      ]
    },
    {
      "cell_type": "code",
      "source": [
        "a = 'hello'\n",
        "a.upper() #모든 문자를 대문자로 변경"
      ],
      "metadata": {
        "colab": {
          "base_uri": "https://localhost:8080/",
          "height": 35
        },
        "id": "Peu58WJi4MgQ",
        "outputId": "5e744303-c6a2-43e7-d727-fbebfc2c44c7"
      },
      "execution_count": 150,
      "outputs": [
        {
          "output_type": "execute_result",
          "data": {
            "text/plain": [
              "'HELLO'"
            ],
            "application/vnd.google.colaboratory.intrinsic+json": {
              "type": "string"
            }
          },
          "metadata": {},
          "execution_count": 150
        }
      ]
    },
    {
      "cell_type": "code",
      "source": [],
      "metadata": {
        "id": "Dx_jTW_D4U44"
      },
      "execution_count": null,
      "outputs": []
    }
  ]
}